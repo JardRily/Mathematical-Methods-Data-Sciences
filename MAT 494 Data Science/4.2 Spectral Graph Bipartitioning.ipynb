{
  "cells": [
    {
      "cell_type": "markdown",
      "metadata": {
        "id": "view-in-github",
        "colab_type": "text"
      },
      "source": [
        "<a href=\"https://colab.research.google.com/github/JardRily/Mathematical-Methods-Data-Sciences/blob/main/MAT%20494%20Data%20Science/4.2%20Spectral%20Graph%20Bipartitioning.ipynb\" target=\"_parent\"><img src=\"https://colab.research.google.com/assets/colab-badge.svg\" alt=\"Open In Colab\"/></a>"
      ]
    },
    {
      "cell_type": "markdown",
      "metadata": {
        "id": "rtYgjD5ZHZ2E"
      },
      "source": [
        "# 4.2 Spectral Graph Bipartitioning\n",
        "\n",
        "Graph partition aims to find out a partition such that the cut (the total number of edges between two disjoint sets of nodes) is minimized. For a weighted graph $G=(V,E)$, given a bipartition of $V$ into disjoint $V_1$ and $V_2$ $(V_1 \\cup V_2 = V)$, the cut between them can be defined as $cut(V_1 , V_2) = \\sum_{i\\in V_1,j \\in V_2} M_{ij}$. The definition of cut is easily extended to $k$ vertex subsets $cut(V_1,V_2,\\ldots ,V_k)=\\sum_{i < j} cut(V_i,V_j)$. \n",
        "\n",
        "The classical graph bipartitioning problem is to find nearly equally-sized vertex subset $V_i, V_2$ of $V$ such that $cut(V_1^*,V_2^*)=\\min_{V_1, V_2} cut(V_1, V_2)$. For this purpose, let us define the partition vector $p$ that captures this division:\n",
        "\\begin{gather*} p_i = \n",
        "\\begin{cases}\n",
        "+1 & i \\in V_1 \\\\\n",
        "-1 & i \\in V_2\n",
        "\\end{cases}\n",
        "\\end{gather*}\n",
        "The cut can be characterized by the Rayleigh Quotient as follows. Given the Laplacian matrix $L$ of $G$ and a partition vector $p$, the Rayleigh Quotient $\\frac{p^TLp}{p^Tp}=\\frac{1}{n}\\cdot 4\\cdot cut(V_1,V_2)$.\n",
        "\n",
        "The result can be simply proved by the properties of the Laplacian matrix. In particular, from \n",
        "\\begin{gather*}\n",
        "p^TLp=\\sum_{\\{i,j\\} in\\;the\\;same\\;set} E_{ij}(p_i - p_j)^2 + \\sum_{\\{i,j\\} not\\;in\\;the\\;same\\;set} E_{ij}(p_i - p_j)^2 \\\\ \\text{and} \\\\\n",
        "p^T Lp=0 + \\sum_{\\{i,j\\} in\\;the\\;same\\;set} E_{ij}(p_i - p_j)^2=4cut(V_1, V_2)\n",
        "\\end{gather*}\n",
        "\n",
        "Note that $p^T p=n$ and we arrive at the conclusion. The result indicates that the minimization of the cut can be represented by the Rayleigh Quotient with some partition vector $(p_i)$ whose values is either $-1$ or $1$. \n",
        "\n",
        "In practical applications, we also need an objective function to balance cuts. Such an objective function can be formulated as follows. Let’s define a diagonal matrix $W$ where $w_{ii}$ is a weight for each vertex $i$. For a subset of vertices $V_l$, define its weight to be weight $W_{V_l} = \\sum_{i \\in V_l} w_{ii}$. Now we try to balance subsets $V_1$ and $V_2$ in such a way that the following  objective funciton, $Q(V_1, V_2)$, is minimized. \n",
        "\\begin{gather*}\n",
        "Q(V_1, V_2) = \\frac{cut(V_1,V_2)}{W_{V_1}}+\\frac{cut(V_1,V_2)}{W_{V_2}}\n",
        "\\end{gather*}\n",
        "The minimization of $Q(V_1, V_2)$ favors partitions that have a small cut value and are balanced because for two different partitions with the same cut value, the above objective function values is smaller for the more balanced partitioning. The objective function can be characterized by the Rayleigh Quotient of the following generalized partition vector $q$. Recall that all eigenvalues of $L$ are real and non-negative, and 0 is the smallest eigenvalue of $L$. For a given graph $G$, let $L$ and $W$ be its Laplacian and vertex weight matrices respectively. Let $e =[1,...,1]^T , ν_1 =W_{V_1}$ and $v_2 =W_{V_2}$ , then the following result holds. \n",
        "\n",
        "The serialized partition vector $q=(q_i) $\n",
        "\\begin{gather*}\n",
        "q_i = \n",
        "\\begin{cases}\n",
        "+\\sqrt{\\frac{v_2}{v_1}} & i \\in V_1 \\\\\n",
        "-\\sqrt{\\frac{v_1}{v_2}} & i \\in V_2 \\\\\n",
        "\\end{cases}\n",
        "\\end{gather*}\n",
        "satisfies:\n",
        "1. $q^TWe=0, q^TWq=v_1+v_2$\n",
        "2. $\\frac{q^TLq}{q^TWq}=\\frac{cut(V_1,V_2)}{v_1}+\\frac{cut(V_1,V_2)}{v_2}$\n",
        "3. The problem $\\min_{q \\neq 0} \\frac{q^T Lq}{q^TWq}$, subject to $q^TWe=0$, is solved when $q$ is the eigenvector corresponding to the second smallest eigenvalue $\\lambda_2$ of the generealized eigenvalue problem $Lx=\\lambda Wx$.\n",
        "\n",
        "Now we choose a weight$(i)=1$ for all vertices $i$. This leads tot he ratio-cut objective, $Ratio-cut(V_1, V_2) = \\frac{cut(V_1,V_2)}{|V_1|}+\\frac{cut(V_1,V_2)}{|V_2|}$. One commonly used $W=diag(w_ii)$ is to choose $w_ii$ to be the sum of the weights of edges incident on the node $i$ (ie $w_{ii}=\\sum_k E_{ik}$). This leads to the normalized cut criterion that was for image segmentation. nore that for this choice of vertex weights, the vertex weight matrix $W$ equals the degree matrix $D$, and weight $\\sum_{j \\in V_i} w_{jj} = cut(V_1, V_2) + within(V_i)$ for $i=1,2$ where within $(V_i)$ is the sum fo the weights of edges with both end-points in $V_i$. Then the normalized-cut objective function may be expressed as \n",
        "\\begin{gather*}\n",
        "normalized-cut(V_1, V_2) = \\frac{cut(V_1, V_2)}{\\sum_{i \\in V_1}} + \\frac{cut(V_1, V_2)}{\\sum_{i \\in V_2} w_{ii}} = 2 - S(V_1, V_2)\n",
        "\\end{gather*}\n",
        "where $S(V_1, V_2) = \\frac{within(V_1)}{\\sum_{i \\in V_1} w_{ii}} + \\frac{within(V_2)}{\\sum_{i \\in V_2} w_{ii}}$. Note that $S(V_1, V_2)$ describes the strengths of associations within each partition. As a result, minimizing the normalized-cut is to maximize the proportion of edge weights that lie within each partition while balancing the cut. \n"
      ]
    },
    {
      "cell_type": "code",
      "execution_count": null,
      "metadata": {
        "id": "yX4r82dJHZ2H"
      },
      "outputs": [],
      "source": []
    }
  ],
  "metadata": {
    "kernelspec": {
      "display_name": "Python 3.10.0 64-bit",
      "language": "python",
      "name": "python3"
    },
    "language_info": {
      "name": "python",
      "version": "3.10.0"
    },
    "orig_nbformat": 4,
    "vscode": {
      "interpreter": {
        "hash": "a95447f1ef4a7eeb81744d913c0526f7f23f9aec6d814ce91d70cd9b0479878c"
      }
    },
    "colab": {
      "provenance": [],
      "include_colab_link": true
    }
  },
  "nbformat": 4,
  "nbformat_minor": 0
}