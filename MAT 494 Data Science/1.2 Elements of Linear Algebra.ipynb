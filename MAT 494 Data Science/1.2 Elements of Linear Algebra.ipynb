{
 "cells": [
  {
   "cell_type": "markdown",
   "metadata": {},
   "source": [
    "# 1.2 Elements of Linear Algebra"
   ]
  },
  {
   "cell_type": "markdown",
   "metadata": {},
   "source": [
    "## 1.2.1 Linear Spaces"
   ]
  },
  {
   "cell_type": "markdown",
   "metadata": {},
   "source": [
    "### 1.2.1.1 Linear Combinations"
   ]
  },
  {
   "cell_type": "markdown",
   "metadata": {},
   "source": [
    "The basis of a vector space S, mathematically represented as $basis(S)$, are the vectors that are linearly independent and span S. In other terms, its the set of vectors whose linear combinations  describe every element in the set S. We'll break down what this means over this section. A commonly used vector space is the space of 3D, notated as $\\mathbb{R}^3$, and is commonly reffered to as the Standard Basis:\n",
    "\\begin{align}\n",
    "basis(S) = \n",
    "\\begin{bmatrix}\n",
    "1\\\\\n",
    "0\\\\\n",
    "0\\\\\n",
    "\\end{bmatrix}\n",
    "\\begin{bmatrix}\n",
    "0\\\\\n",
    "1\\\\\n",
    "0\\\\\n",
    "\\end{bmatrix}\n",
    "\\begin{bmatrix}\n",
    "0\\\\\n",
    "0\\\\\n",
    "1\\\\\n",
    "\\end{bmatrix}\n",
    "\\end{align}"
   ]
  },
  {
   "cell_type": "markdown",
   "metadata": {},
   "source": [
    "A Linear Combination is a vector ($v_0$) formed by multiplying each vector ($v_n$) that forms the basis by a scalar ($c_n$), and adding each vector together:\n",
    "\\begin{align}\n",
    "v_0  = c_1 v_1  + c_2 v_2  + ... + c_n v_n\n",
    "\\end{align}\n"
   ]
  },
  {
   "cell_type": "code",
   "execution_count": 10,
   "metadata": {},
   "outputs": [
    {
     "name": "stdout",
     "output_type": "stream",
     "text": [
      "v0 = 6[1 0 0] + 3[0 1 0] + 0[0 0 1]\n",
      "v0 = [6 3 0]\n"
     ]
    }
   ],
   "source": [
    "from sympy import *\n",
    "# The vectors that form a basis for all space in 3D are represented in the following 3 matricies\n",
    "v1 = np.array([1, 0, 0])\n",
    "v2 = np.array([0, 1, 0])\n",
    "v3 = np.array([0, 0, 1])\n",
    "# Notice how if we take any linear combination of the 3 vectors of the basis, we can create any vector in 3D space\n",
    "c1, c2, c3 = 6, 3, 0\n",
    "v0 = c1*v1 + c2*v2 + c3*v3\n",
    "print(f\"v0 = {c1}{v1} + {c2}{v2} + {c3}{v3}\")\n",
    "print(f\"v0 = {v0}\") "
   ]
  },
  {
   "cell_type": "code",
   "execution_count": 11,
   "metadata": {},
   "outputs": [
    {
     "name": "stdout",
     "output_type": "stream",
     "text": [
      "v0 = [4 6 8]\n"
     ]
    }
   ],
   "source": [
    "# We can also represent the entire basis in one 2D matrix, and call on each vector through index\n",
    "basis = np.array([[1, 0, 0], [0, 1, 0], [0, 0, 1]])\n",
    "c1, c2, c3 = 4, 6, 8\n",
    "v0 = c1*basis[0] + c2*basis[1] + c3*basis[2]\n",
    "print(f\"v0 = {v0}\") "
   ]
  },
  {
   "cell_type": "markdown",
   "metadata": {},
   "source": [
    "The span of vector space S, represented mathematically as $ span(S) $, is the set of all linear combinations of the basis vectors that compose the basis of S. Another way to think of the span of vector space S is the points in space that can be pointed to by any possible linear combination of the basis vectors of S. The basis vectors of $\\mathbb{R}^3$ are: \n",
    "\\begin{align}\n",
    "span(S) = \\mathbb{R}^3\n",
    "\\end{align}"
   ]
  },
  {
   "cell_type": "code",
   "execution_count": 12,
   "metadata": {},
   "outputs": [
    {
     "name": "stdout",
     "output_type": "stream",
     "text": [
      "v0 = [ 10 500]\n"
     ]
    }
   ],
   "source": [
    "# In this example, using a linear combination of the basis vectors of R^2, we can \"point to\" any coordinate in the 2D cartesian plane by changing the scalars x and y\n",
    "x = 10\n",
    "y = 500\n",
    "v1 = np.array([1, 0])\n",
    "v2 = np.array([0, 1])\n",
    "v0 = x*v1 + y*v2\n",
    "print(f\"v0 = {v0}\") "
   ]
  },
  {
   "cell_type": "code",
   "execution_count": 14,
   "metadata": {},
   "outputs": [
    {
     "name": "stdout",
     "output_type": "stream",
     "text": [
      "v0 = [ 0.33333333 -1.66666667]\n"
     ]
    }
   ],
   "source": [
    "# This also includes negative numbers and irrational numbers\n",
    "x = 1/3\n",
    "y = -5/3\n",
    "v0 = x*v1 + y*v2\n",
    "print(f\"v0 = {v0}\") "
   ]
  },
  {
   "cell_type": "markdown",
   "metadata": {},
   "source": [
    "Let A be an $n*m$ matrix. The Column Space of A, denoted mathematically as $col(A)$, is the span of the columns of A:\n",
    "\\begin{align}\n",
    "A = \n",
    "\\begin{bmatrix}\n",
    "a_1 \\;\\; a_2 \\;\\; ... \\;\\; a_n\n",
    "\\end{bmatrix} \\;\\;\\;\\;\\;\\;\\;\\;\\;\\;\\;\\;\\;\\;\\;\\;\\;\n",
    "a_n = \n",
    "\\begin{bmatrix}\n",
    "x_1\\\\\n",
    "x_2\\\\\n",
    "...\\\\\n",
    "x_m\n",
    "\\end{bmatrix}\n",
    "\\end{align}"
   ]
  },
  {
   "cell_type": "code",
   "execution_count": null,
   "metadata": {},
   "outputs": [],
   "source": [
    "# Insert column Space example here"
   ]
  },
  {
   "cell_type": "markdown",
   "metadata": {},
   "source": [
    "### 1.2.1.2 Linear Independence and Dimension"
   ]
  },
  {
   "cell_type": "markdown",
   "metadata": {},
   "source": [
    "In order to describe a basis of a vector space, one requirement is that the vectors in the basis(S) are linearly independant. Two vectors, $v_1$ and $v_2$ are linearly independent if there does not exist a scalar $c_1$ such that $v_2 = c_1 v_1$. This concept is important to reduce redundancies while describing linear spaces. A vector space can have multiple basis; however, the number of vectors in those bases are the same. The number of vectors in a basis is reffered to the vector space's dimension. \n",
    "\n",
    "We can describe $\\mathbb{R}^3$ with the following bases:\n",
    "\n",
    "\\begin{align}\n",
    "basis(S) = \n",
    "\\begin{bmatrix}\n",
    "1\\\\\n",
    "0\\\\\n",
    "0\\\\\n",
    "\\end{bmatrix}\n",
    "\\begin{bmatrix}\n",
    "0\\\\\n",
    "1\\\\\n",
    "0\\\\\n",
    "\\end{bmatrix}\n",
    "\\begin{bmatrix}\n",
    "0\\\\\n",
    "0\\\\\n",
    "1\\\\\n",
    "\\end{bmatrix} \\;\\;\\;\\;\\;\\;\\;\\;\\;\\;\\;\\;\\;\\;\\;\\;\\;\\;\\;\n",
    "basis(K)\n",
    "\\begin{bmatrix}\n",
    "2\\\\\n",
    "0\\\\\n",
    "0\\\\\n",
    "\\end{bmatrix}\n",
    "\\begin{bmatrix}\n",
    "0\\\\\n",
    "2\\\\\n",
    "0\\\\\n",
    "\\end{bmatrix}\n",
    "\\begin{bmatrix}\n",
    "0\\\\\n",
    "0\\\\\n",
    "2\\\\\n",
    "\\end{bmatrix} \\\\\n",
    "\\end{align}\n",
    "\n",
    "Even though both bases look different, they describe the same space: \n",
    "\\begin{align}\n",
    "span(S) = span(K)\n",
    "\\end{align}\n",
    "\n",
    "So both S and K represent $\\mathbb{R}^3$. Did you notice something else? Another more commonly used name for $\\mathbb{R}^3$ is 3-Dimensional space, and here both bases contain 3 linearly independent vectors. Coincidence? It turns out, smart people don't usually randomly name things. The space described by these 3 vectors has a dimension of 3, or in mathematical terms $dim(S) = dim(K) = 3$."
   ]
  },
  {
   "cell_type": "markdown",
   "metadata": {},
   "source": [
    "## 1.2.2 Orthogonality"
   ]
  },
  {
   "cell_type": "markdown",
   "metadata": {},
   "source": [
    "Orthogonality "
   ]
  }
 ],
 "metadata": {
  "kernelspec": {
   "display_name": "Python 3.10.0 64-bit",
   "language": "python",
   "name": "python3"
  },
  "language_info": {
   "codemirror_mode": {
    "name": "ipython",
    "version": 3
   },
   "file_extension": ".py",
   "mimetype": "text/x-python",
   "name": "python",
   "nbconvert_exporter": "python",
   "pygments_lexer": "ipython3",
   "version": "3.10.0"
  },
  "orig_nbformat": 4,
  "vscode": {
   "interpreter": {
    "hash": "a95447f1ef4a7eeb81744d913c0526f7f23f9aec6d814ce91d70cd9b0479878c"
   }
  }
 },
 "nbformat": 4,
 "nbformat_minor": 2
}
