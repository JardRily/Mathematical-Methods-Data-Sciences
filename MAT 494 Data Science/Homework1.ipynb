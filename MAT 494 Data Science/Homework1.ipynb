{
 "cells": [
  {
   "cell_type": "markdown",
   "metadata": {},
   "source": [
    "# 1.2 Elements of Linear Algebra"
   ]
  },
  {
   "cell_type": "markdown",
   "metadata": {},
   "source": [
    "## 1.2.1 Linear Spaces"
   ]
  },
  {
   "cell_type": "markdown",
   "metadata": {},
   "source": [
    "### 1.2.1.1 Linear Combinations"
   ]
  },
  {
   "cell_type": "markdown",
   "metadata": {},
   "source": [
    "##### <center>Import Libraries for Later</center>"
   ]
  },
  {
   "cell_type": "code",
   "execution_count": 15,
   "metadata": {},
   "outputs": [],
   "source": [
    "import numpy as np"
   ]
  },
  {
   "cell_type": "code",
   "execution_count": 20,
   "metadata": {},
   "outputs": [
    {
     "name": "stdout",
     "output_type": "stream",
     "text": [
      "a: [3 6 9]\n",
      "b: [1 2 3]\n",
      "\n"
     ]
    }
   ],
   "source": [
    "# Lets start by creating some vectors, or 1D arrays explicitly\n",
    "a = np.array([3, 6, 9])\n",
    "b = np.array([1, 2, 3]) \n",
    "# Print out the vectors\n",
    "print(f\"a: {a}\\nb: {b}\\n\")"
   ]
  },
  {
   "cell_type": "code",
   "execution_count": 21,
   "metadata": {},
   "outputs": [
    {
     "name": "stdout",
     "output_type": "stream",
     "text": [
      "c: [0 1 2]\n",
      "d: [5 6 7]\n",
      "e: [2 4 6]\n"
     ]
    }
   ],
   "source": [
    "# Lets create vectors using the arange() method\n",
    "# Note: arange(start, end, step)\n",
    "c = np.arange(3) \n",
    "d = np.arange(5, 8) \n",
    "e = np.arange(2, 8, 2) \n",
    "# Print out the vectors\n",
    "print(f\"c: {c}\\nd: {d}\\ne: {e}\")"
   ]
  },
  {
   "cell_type": "code",
   "execution_count": 23,
   "metadata": {},
   "outputs": [
    {
     "name": "stdout",
     "output_type": "stream",
     "text": [
      "f: [0 1 2 3 4 5 6 7 8 9]\n",
      "g: [0 1 2 3 4]\n",
      "h: [0 1 2 3 4 5 6 7 8 9]\n",
      "i: [5 6 7 8 9]\n"
     ]
    }
   ],
   "source": [
    "# The colon (:) can be used to call specific parts of a vector\n",
    "f = np.arange(10)\n",
    "print(f\"f: {f}\")\n",
    "\n",
    "g = f[:5] # Call the first 5 elements of f\n",
    "h = f[:] # Returns every element of f\n",
    "i = f[5:] # Returns the last 5 elements of f  \n",
    "print(f\"g: {g}\\nh: {h}\\ni: {i}\")"
   ]
  },
  {
   "cell_type": "code",
   "execution_count": 25,
   "metadata": {},
   "outputs": [
    {
     "name": "stdout",
     "output_type": "stream",
     "text": [
      "j: [0 1 2 3 4 5]\n",
      "k: [3 4 5 6 7]\n"
     ]
    }
   ],
   "source": [
    "# The colon can also be used in some special cases\n",
    "j = f[:-4] # Returns every element except the last 4\n",
    "k = f[3:8] # Returns the 3rd to 8th element (including the 8th)\n",
    "print(f\"j: {j}\\nk: {k}\")"
   ]
  }
 ],
 "metadata": {
  "interpreter": {
   "hash": "7bf7c1cff000ed18f788ca86713a6b0d406eb6d3548255b0d7313db51cacca8f"
  },
  "kernelspec": {
   "display_name": "Python 3.10.0 64-bit",
   "language": "python",
   "name": "python3"
  },
  "language_info": {
   "codemirror_mode": {
    "name": "ipython",
    "version": 3
   },
   "file_extension": ".py",
   "mimetype": "text/x-python",
   "name": "python",
   "nbconvert_exporter": "python",
   "pygments_lexer": "ipython3",
   "version": "3.10.0"
  },
  "orig_nbformat": 4
 },
 "nbformat": 4,
 "nbformat_minor": 2
}
