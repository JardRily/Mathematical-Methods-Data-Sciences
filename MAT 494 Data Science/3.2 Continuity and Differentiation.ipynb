{
  "cells": [
    {
      "cell_type": "markdown",
      "metadata": {
        "id": "view-in-github",
        "colab_type": "text"
      },
      "source": [
        "<a href=\"https://colab.research.google.com/github/JardRily/Mathematical-Methods-Data-Sciences/blob/main/MAT%20494%20Data%20Science/3.2%20Continuity%20and%20Differentiation.ipynb\" target=\"_parent\"><img src=\"https://colab.research.google.com/assets/colab-badge.svg\" alt=\"Open In Colab\"/></a>"
      ]
    },
    {
      "cell_type": "markdown",
      "metadata": {
        "id": "sM8OBzB9FGtQ"
      },
      "source": [
        "# 3.2 Continuity and Differentiation"
      ]
    },
    {
      "cell_type": "markdown",
      "metadata": {
        "id": "ffWf6JiNFGtS"
      },
      "source": [
        "Limits are an essential part of calculus. let $f : D \\rightarrow \\mathbb{R} $ be a real-valued function on $D \\subseteq \\mathbb{R}^d$. Then $f$ is said to have a limit $L \\in \\mathbb{R}$ as $x$ approaches $a$ if: for any $\\varepsilon > 0$, there exists a $\\delta > 0$ such that $|f(x) - L| < \\varepsilon$ for all $x \\in D\\cap B_\\delta (a)$ \\ $\\{a\\}$, which is written as:\n",
        "\\begin{gather*}\n",
        "\\lim_{x \\rightarrow a} f(x)=L\n",
        "\\end{gather*}\n",
        "A function is continuous if for all points, the function is equivalent to the limit of the function. \n",
        "\\begin{gather*}\n",
        "\\lim_{x \\rightarrow a} f(x) = f(a)\n",
        "\\end{gather*}"
      ]
    },
    {
      "cell_type": "markdown",
      "metadata": {
        "id": "1YgZa0N6FGtS"
      },
      "source": [
        "## 3.2.2 Derivatives\n",
        "### 3.2.2.1 Single-Variable Case\n",
        "The dereivative of a function of a real variable measures the rate of change of the function with respect to another variable. Let $f:D \\rightarrow \\mathbb{R}$ where $D \\subseteq \\mathbb{R} $ and let $x_0 \\in D$ be an interior point of $D$. The derivative of $f$ at $x_0$ is:\n",
        "\\begin{gather*}\n",
        "f'(x_0) = \\frac{df(x_0)}{dx}=\\lim_{h\\rightarrow 0} \\frac{f(x_0 + h)-f(x_0)}{h}\n",
        "\\end{gather*}\n",
        "\n",
        "### 3.2.2.2 Mean Value Theorum \n",
        "The MVT states that if a function $f$ is continous on a closed interval $[a, b]$, and differentiable on the open interval $(a, b)$, then there exists a point $c$ in the interval $(a, b)$ such that $f'(c) = \\frac{f(b) - f(a)}{b-a}$, the functions average rate of change over $[a, b]$.\n",
        "\n",
        "### 3.2.2.3 General Case\n",
        "Many functions in Data Science involve several independent variables. For functions of several variables, we have the following generalization. As before, we let $e_i \\in \\mathbb{R}^d$ be the $i$-th standard basis vector. Now we can find the derivative of functions that are of a higher dimension, known as the gradient. The gradient of f is written as $\\nabla f$. In order to find what the $\\nabla$ operator does, we first need to understand partial derivatives. Let $f : D \\rightarrow \\mathbb{R}$ where $D \\subseteq \\mathbb{R}^d$ and let $x_0 \\in D$ be an interior point of $D$. The partial derivative of $f$ at $x_0$ with respect to $x_i$ is:\n",
        "\\begin{gather*}\n",
        "\\frac{\\partial f(x_0)}{\\partial x_i}=\\lim_{h \\rightarrow 0} \\frac{f(x_0 + he_i)-f(x_0)}{h}\n",
        "\\end{gather*}\n",
        "provided that the limit exists. If $\\frac{\\partial f(x_0)}{\\partial x_i}$ exists, and is continuous, then we say that $f$ continuously differentiable at $x_0$.\n",
        "The gradient thus can be rewritten as $\\nabla f(x) = q$, $\\frac{\\partial}{\\partial x_i}[q^Tx]=\\frac{\\partial}{\\partial x_i}[\\Sigma^d_{j=1} q_j x_j] = q_i.$\n",
        "\n",
        "### 3.2.2.4 Further Derivatives\n",
        "The directional derivative of a multivariate differentiable function, along a given vector, measures the rate of change of a functoin along that direction. Let $f : D \\rightarrow \\mathbb{R}$ where $D \\subseteq \\mathbb{R}^d $, let $x_0 \\in D$ be an interior point of $D$ and let $v \\in \\mathbb{R}^d$ be a unit vector. The directional derivative of $f$ at $x_0$ in the direction $v$ is $\\frac{\\partial f(x_0)}{\\partial v}=\\lim_{h \\rightarrow 0} \\frac{f(x_0 + hv)-f(x_0)}{h}$, provided the limit exists. \n",
        "\n",
        "A general directional derivative also exists: $\\mathbb{J}_f (x_0)v=\\nabla f(x_0)^T v$, where $v \\in \\mathbb{R}^d$ is a unit vector, $\\mathbb{J}$ is the Jacobian Function defined as:\n",
        "\\begin{gather*}\n",
        "\\mathbb{J} = \n",
        "\\begin{bmatrix}\n",
        "\\frac{\\partial f}{\\partial x_1} & \\cdots & \\frac{\\partial f}{\\partial x_n}\n",
        "\\end{bmatrix} = \n",
        "\\begin{bmatrix}\n",
        "\\frac{\\partial f_1}{\\partial x_1} & \\cdots & \\frac{\\partial f_1}{\\partial x_n} \\\\\n",
        "\\vdots & \\ddots & \\vdots \\\\\n",
        "\\frac{\\partial f_m}{\\partial x_1} & \\cdots & \\frac{\\partial f_m}{\\partial x_n}\n",
        "\\end{bmatrix}\n",
        "\\end{gather*}"
      ]
    },
    {
      "cell_type": "markdown",
      "metadata": {
        "id": "K5l8HdHNFGtT"
      },
      "source": [
        "## 3.2.3 Taylor's Theorem\n",
        "\n",
        "Taylor's Theorem gives an approximation of a differentiable function around a given point by a polynomial. Let $f:D\\rightarrow \\mathbb{R} $ where $D\\subseteq \\mathbb{R}$. Suppose $f$ has a $m$ times continuous derivative on $[a, b]$. Then, for $m=2$, we have $f(b)=f(a)+(b-a)f'(a)+\\frac{1}{2}(b-a)^2f''(\\xi)$, for some $a<\\xi<b$."
      ]
    },
    {
      "cell_type": "markdown",
      "metadata": {
        "id": "_MfmAvpKFGtU"
      },
      "source": [
        "For a more generalized case, we let $m$ be any number, and let $\\Phi(t) = f(t) - P(t)$. By construction, $\\Phi(a)=\\Phi(b)=0$. By Rolle, there is a $\\xi' \\in (a,b)$ such that $\\Phi'(\\xi')=0$. Moreover, $\\Phi'(a)=0$. Applying Rolle again implies that there is $\\xi \\in (a, \\xi')$ such that $\\Phi''(\\xi)=0$. The second derivative of $\\Phi$ at $\\xi$ is $0=\\Phi''(\\xi)=f''(\\xi)-P''(\\xi)=f''(\\xi)-2\\alpha_2$, so $\\alpha_2 = \\frac{f''(\\xi)}{2}$. Plugging into $P$ and using $\\Phi(b)=0$ gives the claim."
      ]
    }
  ],
  "metadata": {
    "kernelspec": {
      "display_name": "Python 3.10.0 64-bit",
      "language": "python",
      "name": "python3"
    },
    "language_info": {
      "name": "python",
      "version": "3.10.0"
    },
    "orig_nbformat": 4,
    "vscode": {
      "interpreter": {
        "hash": "a95447f1ef4a7eeb81744d913c0526f7f23f9aec6d814ce91d70cd9b0479878c"
      }
    },
    "colab": {
      "provenance": [],
      "include_colab_link": true
    }
  },
  "nbformat": 4,
  "nbformat_minor": 0
}