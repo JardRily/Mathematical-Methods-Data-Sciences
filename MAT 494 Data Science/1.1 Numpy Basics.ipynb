{
 "cells": [
  {
   "cell_type": "markdown",
   "metadata": {},
   "source": [
    "# 1.1 Numpy Basics"
   ]
  },
  {
   "cell_type": "markdown",
   "metadata": {},
   "source": [
    "##### <center>Import Libraries for Later</center>"
   ]
  },
  {
   "cell_type": "code",
   "execution_count": 15,
   "metadata": {},
   "outputs": [],
   "source": [
    "import numpy as np"
   ]
  },
  {
   "cell_type": "markdown",
   "metadata": {},
   "source": [
    "### 1.1.1 Vectors (1D Arrays)"
   ]
  },
  {
   "cell_type": "code",
   "execution_count": 20,
   "metadata": {},
   "outputs": [
    {
     "name": "stdout",
     "output_type": "stream",
     "text": [
      "a: [3 6 9]\n",
      "b: [1 2 3]\n",
      "\n"
     ]
    }
   ],
   "source": [
    "# Lets start by creating some vectors, or 1D matrices explicitly\n",
    "a = np.array([3, 6, 9])\n",
    "b = np.array([1, 2, 3]) \n",
    "# Print out the vectors\n",
    "print(f\"a: {a}\\nb: {b}\\n\")"
   ]
  },
  {
   "cell_type": "code",
   "execution_count": 21,
   "metadata": {},
   "outputs": [
    {
     "name": "stdout",
     "output_type": "stream",
     "text": [
      "c: [0 1 2]\n",
      "d: [5 6 7]\n",
      "e: [2 4 6]\n"
     ]
    }
   ],
   "source": [
    "# Lets create vectors using the arange() method\n",
    "# Note: arange(start, end, step)\n",
    "c = np.arange(3) \n",
    "d = np.arange(5, 8) \n",
    "e = np.arange(2, 8, 2) \n",
    "# Print out the vectors\n",
    "print(f\"c: {c}\\nd: {d}\\ne: {e}\")"
   ]
  },
  {
   "cell_type": "code",
   "execution_count": 23,
   "metadata": {},
   "outputs": [
    {
     "name": "stdout",
     "output_type": "stream",
     "text": [
      "f: [0 1 2 3 4 5 6 7 8 9]\n",
      "g: [0 1 2 3 4]\n",
      "h: [0 1 2 3 4 5 6 7 8 9]\n",
      "i: [5 6 7 8 9]\n"
     ]
    }
   ],
   "source": [
    "# The colon (:) can be used to call specific parts of a vector\n",
    "# Initialize vector \"f\" for use later\n",
    "f = np.arange(10)\n",
    "print(f\"f: {f}\")\n",
    "\n",
    "# Create vectors from vector f\n",
    "g = f[:5] # Call the first 5 elements of f\n",
    "h = f[:] # Returns every element of f\n",
    "i = f[5:] # Returns the last 5 elements of f  \n",
    "print(f\"g: {g}\\nh: {h}\\ni: {i}\")"
   ]
  },
  {
   "cell_type": "code",
   "execution_count": 37,
   "metadata": {},
   "outputs": [
    {
     "name": "stdout",
     "output_type": "stream",
     "text": [
      "j: [0 1 2 3 4 5]\n",
      "k: [3 4 5 6 7]\n"
     ]
    }
   ],
   "source": [
    "# The colon can also be used in some special cases\n",
    "j = f[:-4] # Returns every element except the last 4\n",
    "k = f[3:8] # Returns the 3rd to 8th element (including the 8th)\n",
    "print(f\"j: {j}\\nk: {k}\")"
   ]
  },
  {
   "cell_type": "markdown",
   "metadata": {},
   "source": [
    "### 1.1.2 Multidimensional Matrices"
   ]
  },
  {
   "cell_type": "markdown",
   "metadata": {},
   "source": [
    "##### 1.1.2.1 2D Arrays"
   ]
  },
  {
   "cell_type": "code",
   "execution_count": 42,
   "metadata": {},
   "outputs": [
    {
     "name": "stdout",
     "output_type": "stream",
     "text": [
      "a2D: \n",
      "[[2 4]\n",
      " [6 8]]\n",
      "b2D: \n",
      "[[ 3  6  9]\n",
      " [12 15 18]\n",
      " [21 24 27]]\n",
      "\n"
     ]
    }
   ],
   "source": [
    "# Lets start by creating some 2D Matrcies\n",
    "a2D = np.array([[2, 4], [6, 8]]) # Initialize 2x2 Matrix\n",
    "b2D = np.array([[3, 6, 9], [12, 15, 18], [21, 24, 27]]) # Initialize 3x3 Matrix\n",
    "# Print out the matrices\n",
    "print(f\"a2D: \\n{a2D}\\nb2D: \\n{b2D}\\n\")"
   ]
  },
  {
   "cell_type": "code",
   "execution_count": 47,
   "metadata": {},
   "outputs": [
    {
     "name": "stdout",
     "output_type": "stream",
     "text": [
      "cVector: \n",
      "[ 0  1  2  3  4  5  6  7  8  9 10 11 12 13 14 15]\n",
      "c2D: \n",
      "[[ 0  1  2  3]\n",
      " [ 4  5  6  7]\n",
      " [ 8  9 10 11]\n",
      " [12 13 14 15]]\n",
      "\n"
     ]
    }
   ],
   "source": [
    "# To create 2D arrays using arange(), we need to reshape vectors\n",
    "# First create the vector\n",
    "cVector = np.arange(16)\n",
    "# Then use the reshape() method\n",
    "# Note: reshape(array, newshape)\n",
    "c2D = np.reshape(cVector, [4, 4]) # The new matrix will be 4x4\n",
    "print(f\"cVector: \\n{cVector}\\nc2D: \\n{c2D}\\n\")"
   ]
  },
  {
   "cell_type": "code",
   "execution_count": 75,
   "metadata": {},
   "outputs": [
    {
     "name": "stdout",
     "output_type": "stream",
     "text": [
      "zeros: \n",
      "[[0 0]\n",
      " [0 0]]\n",
      "ones: \n",
      "[[1 1]\n",
      " [1 1]]\n",
      "diag: \n",
      "[[3 0]\n",
      " [0 4]]\n",
      "eye: \n",
      "[[1 0]\n",
      " [0 1]]\n"
     ]
    }
   ],
   "source": [
    "# There are some special functions we can use to create useful 2D matrices\n",
    "zeros = np.zeros([2, 2], dtype=int) # Note: zeros(shape, data type)\n",
    "ones = np.ones([2, 2], dtype=int) # Note: ones(shape, data type)\n",
    "eye = np.eye(2, 2, 0, dtype=int) # Note: eye(rows, columns, diagonal index, data type)\n",
    "diag = np.diag((3, 4)) # Note: diag(v, k), where v is a list of the number going on the kth diagonal, and k is the diagonal to go on\n",
    "print(f\"zeros: \\n{zeros}\\nones: \\n{ones}\\ndiag: \\n{diag}\\neye: \\n{eye}\")"
   ]
  },
  {
   "cell_type": "code",
   "execution_count": 76,
   "metadata": {},
   "outputs": [
    {
     "name": "stdout",
     "output_type": "stream",
     "text": [
      "block: \n",
      "[[1 1 0 0]\n",
      " [1 1 0 0]\n",
      " [1 0 3 0]\n",
      " [0 1 0 4]]\n"
     ]
    }
   ],
   "source": [
    "# We can also combine matrices using a special command, which will be useful for later computations\n",
    "block = np.block([[ones, zeros], [eye, diag]])\n",
    "print(f\"block: \\n{block}\")"
   ]
  },
  {
   "cell_type": "markdown",
   "metadata": {},
   "source": [
    "##### 1.1.2.2 Higher Dimensional Matricies"
   ]
  },
  {
   "cell_type": "code",
   "execution_count": 78,
   "metadata": {},
   "outputs": [
    {
     "name": "stdout",
     "output_type": "stream",
     "text": [
      "a3D: \n",
      "[[[ 0  1  2]\n",
      "  [ 3  4  5]\n",
      "  [ 6  7  8]]\n",
      "\n",
      " [[ 9 10 11]\n",
      "  [12 13 14]\n",
      "  [15 16 17]]\n",
      "\n",
      " [[18 19 20]\n",
      "  [21 22 23]\n",
      "  [24 25 26]]]\n"
     ]
    }
   ],
   "source": [
    "# Numpy also supports higher dimensional Matrix, here is a 3D Matrix\n",
    "a3D = np.array([[[0, 1, 2], [3, 4, 5], [6, 7, 8]], [[9, 10, 11], [12, 13, 14], [15, 16,17]], [[18, 19, 20], [21, 22, 23], [24, 25, 26]]])\n",
    "print(f\"a3D: \\n{a3D}\")"
   ]
  }
 ],
 "metadata": {
  "kernelspec": {
   "display_name": "Python 3.10.0 64-bit",
   "language": "python",
   "name": "python3"
  },
  "language_info": {
   "codemirror_mode": {
    "name": "ipython",
    "version": 3
   },
   "file_extension": ".py",
   "mimetype": "text/x-python",
   "name": "python",
   "nbconvert_exporter": "python",
   "pygments_lexer": "ipython3",
   "version": "3.10.0"
  },
  "orig_nbformat": 4,
  "vscode": {
   "interpreter": {
    "hash": "a95447f1ef4a7eeb81744d913c0526f7f23f9aec6d814ce91d70cd9b0479878c"
   }
  }
 },
 "nbformat": 4,
 "nbformat_minor": 2
}
